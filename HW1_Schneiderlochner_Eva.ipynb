{
 "cells": [
  {
   "cell_type": "code",
   "execution_count": 1,
   "id": "99578674",
   "metadata": {},
   "outputs": [
    {
     "name": "stdout",
     "output_type": "stream",
     "text": [
      "[65, 60, 55, 50, 45, 40, 35, 30]\n"
     ]
    }
   ],
   "source": [
    "nums=(list(range(30,65,5)))\n",
    "nums.sort(reverse=True)\n",
    "nums.insert(0,65)\n",
    "print(nums)"
   ]
  },
  {
   "cell_type": "code",
   "execution_count": 13,
   "id": "10102e91",
   "metadata": {},
   "outputs": [
    {
     "name": "stdout",
     "output_type": "stream",
     "text": [
      "[1, 2, 3, 4, 5, 6, 7, 8, 9, 10, 11, 12, 13, 14, 15, 16, 17, 18, 19, 20]\n",
      "20\n",
      "20\n",
      "1\n"
     ]
    },
    {
     "data": {
      "text/plain": [
       "210"
      ]
     },
     "execution_count": 13,
     "metadata": {},
     "output_type": "execute_result"
    }
   ],
   "source": [
    "list1 = []\n",
    "for item in range(0, 21):\n",
    "    list1.append(item)\n",
    "list1.remove(0)\n",
    "print(list1)\n",
    "print(len(list1))\n",
    "print(max(list1))\n",
    "print(min(list1))\n",
    "sum(list1)"
   ]
  },
  {
   "cell_type": "code",
   "execution_count": 32,
   "id": "3be3fb4e",
   "metadata": {},
   "outputs": [
    {
     "name": "stdout",
     "output_type": "stream",
     "text": [
      "When sunny let us play\n",
      "When rainy let us watch TV\n",
      "When cloudy let us walk\n",
      "When snowy let us ski\n"
     ]
    }
   ],
   "source": [
    "d = {'sunny': 'play','rainy': 'watch TV','cloudy': 'walk' }\n",
    "d.update({'snowy':'ski'})\n",
    "for i, j in d.items():\n",
    "    print ('When ' + i + ' let us ' + str(j))"
   ]
  }
 ],
 "metadata": {
  "kernelspec": {
   "display_name": "Python 3 (ipykernel)",
   "language": "python",
   "name": "python3"
  },
  "language_info": {
   "codemirror_mode": {
    "name": "ipython",
    "version": 3
   },
   "file_extension": ".py",
   "mimetype": "text/x-python",
   "name": "python",
   "nbconvert_exporter": "python",
   "pygments_lexer": "ipython3",
   "version": "3.9.13"
  }
 },
 "nbformat": 4,
 "nbformat_minor": 5
}
